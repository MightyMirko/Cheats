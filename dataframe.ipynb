
import pandas as pd

# Create a sample DataFrame for demonstration
data = {
    'Name': ['Alice', 'Bob', 'Charlie', 'David', 'Eva'],
    'Age': [24, 27, 22, 32, 29],
    'City': ['New York', 'Los Angeles', 'Chicago', 'Houston', 'Phoenix'],
    'Salary': [70000, 80000, 50000, 120000, 90000]
}
df = pd.DataFrame(data)

# Display the DataFrame
print("# DataFrame:")
print(df)

# 1. Display the first few rows of a DataFrame
print("\n# 1. Display the first 3 rows:")
print(df.head(3))

# 2. Display the last few rows of a DataFrame
print("\n# 2. Display the last 2 rows:")
print(df.tail(2))

# 3. Get basic information about the DataFrame
print("\n# 3. DataFrame information:")
print(df.info())

# 4. Get summary statistics for numeric columns
print("\n# 4. Summary statistics:")
print(df.describe())

# 5. Select a single column
print("\n# 5. Select the 'Name' column:")
print(df['Name'])

# 6. Select multiple columns
print("\n# 6. Select 'Name' and 'Salary' columns:")
print(df[['Name', 'Salary']])

# 7. Filter rows based on a condition
print("\n# 7. Filter rows where Age > 25:")
print(df[df['Age'] > 25])

# 8. Add a new column
print("\n# 8. Add a new column 'Bonus' (10% of Salary):")
df['Bonus'] = df['Salary'] * 0.1
print(df)

# 9. Update values in a column
print("\n# 9. Update 'City' to 'San Francisco' for Bob:")
df.loc[df['Name'] == 'Bob', 'City'] = 'San Francisco'
print(df)

# 10. Drop a column
print("\n# 10. Drop the 'Bonus' column:")
df = df.drop(columns=['Bonus'])
print(df)

# 11. Sort the DataFrame by a column
print("\n# 11. Sort by 'Age' (ascending):")
print(df.sort_values(by='Age'))

# 12. Group by a column and aggregate
print("\n# 12. Group by 'City' and calculate the average Salary:")
print(df.groupby('City')['Salary'].mean())

# 13. Reset the index of the DataFrame
print("\n# 13. Reset the index:")
df = df.reset_index(drop=True)
print(df)

# 14. Rename columns
print("\n# 14. Rename 'Salary' to 'Income':")
df = df.rename(columns={'Salary': 'Income'})
print(df)

# 15. Handle missing data
print("\n# 15. Handle missing data (Fill NaN in 'Income' with 0):")
df.loc[2, 'Income'] = None  # Introduce a missing value for demonstration
print("DataFrame with NaN:")
print(df)
df['Income'] = df['Income'].fillna(0)
print("After filling NaN:")
print(df)

# 16. Save DataFrame to a CSV file
print("\n# 16. Save DataFrame to 'output.csv':")
df.to_csv('output.csv', index=False)
print("DataFrame saved to 'output.csv'.")

# 17. Load DataFrame from a CSV file
print("\n# 17. Load DataFrame from 'output.csv':")
loaded_df = pd.read_csv('output.csv')
print(loaded_df)
